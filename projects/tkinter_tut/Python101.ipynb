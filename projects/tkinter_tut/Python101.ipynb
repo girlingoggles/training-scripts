{
 "cells": [
  {
   "cell_type": "code",
   "execution_count": 11,
   "metadata": {},
   "outputs": [
    {
     "name": "stdout",
     "output_type": "stream",
     "text": [
      "what r? 2\n",
      "12.566370614359172\n"
     ]
    }
   ],
   "source": [
    "from math import pi\n",
    "r = input(\"what r? \")\n",
    "r = float(r)\n",
    "area = pi*(r**2)\n",
    "print(area)"
   ]
  },
  {
   "cell_type": "code",
   "execution_count": 55,
   "metadata": {},
   "outputs": [
    {
     "name": "stdout",
     "output_type": "stream",
     "text": [
      "[1, 2]  and  [3, 'a']\n",
      "a and 1\n",
      "3\n",
      "concatenate\n"
     ]
    }
   ],
   "source": [
    "x = [1, 2, 3, \"a\"]\n",
    "print(x[:2], \" and \", x[-2:])  #Prints from 0 to 1 index, \"and\" 2nd to last and last index\n",
    "print(x[-1] + \" and \" + str(x[0]))   #str() converts other data types into a string if possible\n",
    "#x[0] is an int, which cannot be concatenated (+) with strings. can concatenate similar datatypes:\n",
    "print(1+2)\n",
    "print(\"con\" + \"catenate\")"
   ]
  },
  {
   "cell_type": "code",
   "execution_count": 12,
   "metadata": {},
   "outputs": [
    {
     "name": "stdout",
     "output_type": "stream",
     "text": [
      "{1, 2, 3, 4, 5}\n",
      "{2, 3}\n"
     ]
    }
   ],
   "source": [
    "a = set([1, 2, 3])\n",
    "b = set([2, 3, 4, 5])\n",
    "print(a|b)\n",
    "print(a&b)"
   ]
  },
  {
   "cell_type": "code",
   "execution_count": null,
   "metadata": {},
   "outputs": [],
   "source": [
    "#range( x ) returns a list whose items are consecutive integers from 0 (included) up to x (excluded). \n",
    "#range( x,y ) returns a list whose items are consecutive integers from x (included) up to y (excluded).\n",
    "import random #module that selects a random element from a range or data structure)\n",
    "print(random.choice(range(5, 15))) #Will print a random number from 5 to (excluding) 15"
   ]
  },
  {
   "cell_type": "code",
   "execution_count": 35,
   "metadata": {},
   "outputs": [
    {
     "name": "stdout",
     "output_type": "stream",
     "text": [
      "8\n",
      "5\n",
      "8\n",
      "11\n",
      "14\n"
     ]
    }
   ],
   "source": [
    "for x in range (5,15,3): #(start (inclusive), stop (exclusive), step (increment))\n",
    "    print(x) #Will print numbers from 5 to 15, but only increments of 3\n"
   ]
  },
  {
   "cell_type": "code",
   "execution_count": 66,
   "metadata": {},
   "outputs": [
    {
     "name": "stdout",
     "output_type": "stream",
     "text": [
      "number please: 15\n",
      "not zero!\n"
     ]
    }
   ],
   "source": [
    "#and, or, not\n",
    "x = float(input(\"number please: \"))\n",
    "\n",
    "if (x > 0) and (x < 10):\n",
    "    print(\"hello\")\n",
    "elif (x < 0) or (x == 10):  #  = is an assignment operator, == is checking for equivalence. be careful!\n",
    "    print(\"great!\")\n",
    "elif not (x==0):  #also written as elif (x != 0):  \n",
    "    print(\"not zero!\")\n",
    "else:\n",
    "    print(\"probably zero\")"
   ]
  },
  {
   "cell_type": "code",
   "execution_count": 20,
   "metadata": {},
   "outputs": [
    {
     "name": "stdout",
     "output_type": "stream",
     "text": [
      "Good Bye\n",
      "Hello\n",
      "Hello\n",
      "Hello\n",
      "Thank you\n",
      "Thank you\n",
      "Thank you\n",
      "Good Bye\n",
      "Good Bye\n",
      "Good Bye\n"
     ]
    }
   ],
   "source": [
    "#an if statement progresses if the condition presented is true, otherwise it checks any elif or else statements.\n",
    "#The order of if-elif-else statements is important as it will complete the first statement satisfied.\n",
    "for x in range(10):\n",
    "    if x in (1, 2, 3):\n",
    "        print(\"Hello\")\n",
    "    elif x in (1, 4, 5, 6): #notice it only prints thank you 3 times, as '1' was already evaluated earlier to hello\n",
    "        print(\"Thank you\")\n",
    "    else:\n",
    "        print(\"Good Bye\")"
   ]
  },
  {
   "cell_type": "code",
   "execution_count": 14,
   "metadata": {},
   "outputs": [
    {
     "name": "stdout",
     "output_type": "stream",
     "text": [
      "Good Bye\n",
      "Hello\n",
      "Hello\n",
      "Hello\n",
      "Thank you\n",
      "Thank you\n",
      "Thank you\n",
      "Good Bye\n",
      "Good Bye\n",
      "Good Bye\n"
     ]
    }
   ],
   "source": [
    "#if only a one line statement, can call from same line:        \n",
    "for x in range(10):\n",
    "    if x in (1, 2, 3): print(\"Hello\")\n",
    "    elif x in (4, 5, 6): print(\"Thank you\")\n",
    "    else: print(\"Good Bye\")"
   ]
  },
  {
   "cell_type": "code",
   "execution_count": 18,
   "metadata": {},
   "outputs": [
    {
     "name": "stdout",
     "output_type": "stream",
     "text": [
      "nope\n",
      "nope\n",
      "nope\n"
     ]
    }
   ],
   "source": [
    "#the condition in an if statement can be treated as a boolean, \"if x\" implies \"if x is True/exists\"   \n",
    "#any non-zero number or non-empty string, tuple, list, or dictionary evaluates as true. Zero (of any numeric type), None, and empty strings, tuples, lists, and dictionaries evaluate as false.\n",
    "x = None\n",
    "for y in range(3):\n",
    "    if x:\n",
    "        print(\"hello\")\n",
    "    else:\n",
    "        print(\"nope\")"
   ]
  },
  {
   "cell_type": "code",
   "execution_count": 16,
   "metadata": {},
   "outputs": [
    {
     "name": "stdout",
     "output_type": "stream",
     "text": [
      "less\n",
      "less\n",
      "less\n",
      "less\n"
     ]
    }
   ],
   "source": [
    "#if while statement evaluates true, executes everything in the statement, then re-evaluates while statement.\n",
    "#if while evaluates to false, it exits the while loop\n",
    "count = 3\n",
    "x=0\n",
    "while x <= count:\n",
    "    print(\"less\")\n",
    "    count -= 1"
   ]
  },
  {
   "cell_type": "code",
   "execution_count": 41,
   "metadata": {},
   "outputs": [
    {
     "name": "stdout",
     "output_type": "stream",
     "text": [
      "type a word: potato\n",
      "pnot letter 'a'\n",
      "onot letter 'a'\n",
      "tnot letter 'a'\n",
      "ais letter 'a'\n"
     ]
    }
   ],
   "source": [
    "#a break statement only breaks out of the middle of a loop\n",
    "word = input(\"type a word: \")\n",
    "\n",
    "for x in word:\n",
    "    if x==\"a\": \n",
    "        print(x + \" is letter 'a'\")\n",
    "        break             # item x is satisfactory, terminate loop\n",
    "    else:\n",
    "        print(x + \" not letter 'a'\")\n",
    "        x = None"
   ]
  },
  {
   "cell_type": "code",
   "execution_count": 44,
   "metadata": {},
   "outputs": [
    {
     "name": "stdout",
     "output_type": "stream",
     "text": [
      "type a word: cream\n",
      "r is not 'a'\n",
      "e is not 'a'\n",
      "a is letter 'a'\n"
     ]
    }
   ],
   "source": [
    "#a break statement only breaks out of the middle of a loop\n",
    "word = input(\"type a word: \")\n",
    "\n",
    "for x in word:\n",
    "    if x==\"a\": \n",
    "        print(x + \" is letter 'a'\")\n",
    "        break             \n",
    "    if (x==\"b\") or (x==\"c\"):\n",
    "        continue        #Usually used in place of several nested if statements. Haven't really had to use continue much/at all\n",
    "    else:\n",
    "        print(x + \" is not 'a'\")"
   ]
  },
  {
   "cell_type": "code",
   "execution_count": 45,
   "metadata": {},
   "outputs": [
    {
     "name": "stdout",
     "output_type": "stream",
     "text": [
      "0\n",
      "1\n",
      "2\n",
      "end\n"
     ]
    }
   ],
   "source": [
    "#a pass statement is basically a placeholder when you don't have anything to do in a required clause\n",
    "\n",
    "for x in range(5):\n",
    "    if x in (0, 1, 2):\n",
    "        print(x)\n",
    "    elif x == 3:\n",
    "        pass\n",
    "    else:\n",
    "        print(\"end\")"
   ]
  },
  {
   "cell_type": "code",
   "execution_count": 59,
   "metadata": {},
   "outputs": [
    {
     "name": "stdout",
     "output_type": "stream",
     "text": [
      "Hello!\n",
      "please type 'words', 'add', or 'exit': add\n",
      "First number: 1\n",
      "Second number: 2\n",
      "12\n"
     ]
    }
   ],
   "source": [
    "def do_a_thing(action):\n",
    "    action.lower()\n",
    "    if action == \"exit\":\n",
    "        print(\"exiting\")\n",
    "    elif action == \"words\":\n",
    "        print(\"We put words here\")\n",
    "    elif action == \"add\":\n",
    "        a = input(\"First number: \")\n",
    "        b = input(\"Second number: \")\n",
    "        print(a+b) #This doesn't actually add them mathematically, as they are still strings! Things to watch out for.\n",
    "        \n",
    "print(\"Hello!\")\n",
    "answer = input(\"please type 'words', 'add', or 'exit': \") # \\n creates a new line\n",
    "do_a_thing(answer)   #calls the function and passes it the variable/s, in this case a user input string"
   ]
  },
  {
   "cell_type": "code",
   "execution_count": 60,
   "metadata": {},
   "outputs": [
    {
     "name": "stdout",
     "output_type": "stream",
     "text": [
      "20\n"
     ]
    }
   ],
   "source": [
    "#Lambda is basically a one-line function that doesn't need to be defined (anonymous function)\n",
    "x = lambda a, b: a * b\n",
    "print(x(4,5))"
   ]
  },
  {
   "cell_type": "code",
   "execution_count": null,
   "metadata": {},
   "outputs": [],
   "source": []
  }
 ],
 "metadata": {
  "kernelspec": {
   "display_name": "Python 3",
   "language": "python",
   "name": "python3"
  },
  "language_info": {
   "codemirror_mode": {
    "name": "ipython",
    "version": 3
   },
   "file_extension": ".py",
   "mimetype": "text/x-python",
   "name": "python",
   "nbconvert_exporter": "python",
   "pygments_lexer": "ipython3",
   "version": "3.7.5"
  }
 },
 "nbformat": 4,
 "nbformat_minor": 2
}
